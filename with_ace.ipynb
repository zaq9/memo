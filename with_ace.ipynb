{
  "nbformat": 4,
  "nbformat_minor": 0,
  "metadata": {
    "colab": {
      "name": "with_ace.ipynb",
      "version": "0.3.2",
      "provenance": [],
      "collapsed_sections": [],
      "include_colab_link": true
    },
    "kernelspec": {
      "name": "python3",
      "display_name": "Python 3"
    }
  },
  "cells": [
    {
      "cell_type": "markdown",
      "metadata": {
        "id": "view-in-github",
        "colab_type": "text"
      },
      "source": [
        "<a href=\"https://colab.research.google.com/github/zaq9/memo/blob/master/with_ace.ipynb\" target=\"_parent\"><img src=\"https://colab.research.google.com/assets/colab-badge.svg\" alt=\"Open In Colab\"/></a>"
      ]
    },
    {
      "metadata": {
        "id": "RBBjTg_vDo6q",
        "colab_type": "code",
        "outputId": "0ba818df-5fe1-4b64-d066-2887306918b5",
        "colab": {
          "base_uri": "https://localhost:8080/",
          "height": 170
        }
      },
      "cell_type": "code",
      "source": [
        "import random\n",
        "\n",
        "\n",
        "class Card:\n",
        "    SUITS = '♤♡♢♧'\n",
        "    RANKS = '0 A 2 3 4 5 6 7 8 9 10 J Q K'.split()\n",
        "\n",
        "    def __init__(self, suit, rank): self.suit, self.rank = suit, rank\n",
        "\n",
        "    def __repr__(self): return f'{Card.SUITS[self.suit]}{Card.RANKS[self.rank]}'\n",
        "\n",
        "\n",
        "class Deck(list):\n",
        "    def __init__(self):\n",
        "        super().__init__([Card(suit, rank) for suit in range(4) for rank in range(1, 14)])\n",
        "        random.shuffle(self)\n",
        "\n",
        "\n",
        "class Hand(list):  # 手札\n",
        "    @property\n",
        "    def score(self):  # ブラックジャックのスコア(Bustした場合は負）\n",
        "        sc = sum(min(10, c.rank) for c in self)\n",
        "        if (sc <= 11 and 1 in [c.rank for c in self]): sc += 10\n",
        "\n",
        "        return sc if sc <= 21 else -sc\n",
        "\n",
        "\n",
        "class Player:\n",
        "    def __init__(self, deck):\n",
        "        self.deck = deck\n",
        "        self.hand = Hand()\n",
        "        self.draw()\n",
        "\n",
        "    def __repr__(self):\n",
        "        return (f\"{self.__class__.__name__} {self.hand} :Score={self.hand.score}\")\n",
        "\n",
        "    def draw(self):\n",
        "        self.hand.append(self.deck.pop())\n",
        "        return self.hand.score\n",
        "\n",
        "    def confirm_hit(self):\n",
        "        view(self)\n",
        "        return confirm(' Hit?')\n",
        "\n",
        "    def deal(self):\n",
        "        while (self.draw() > 0):\n",
        "            if (not self.confirm_hit()): return self.hand.score\n",
        "        view(f\"{self.__class__.__name__} Bust!! {self.hand} \")\n",
        "\n",
        "\n",
        "class Dealer(Player):\n",
        "    def confirm_hit(self): return self.hand.score < 17\n",
        "\n",
        "\n",
        "def game():\n",
        "    deck = Deck()\n",
        "    dealer, player = Dealer(deck), Player(deck)\n",
        "    view(dealer)\n",
        "    if (player.deal() and dealer.deal()):\n",
        "        view(dealer)\n",
        "        if (player.hand.score >= dealer.hand.score):\n",
        "            view('You Win!')\n",
        "        else:\n",
        "            view('Dealer Win!')\n",
        "\n",
        "\n",
        "def view(msg): print(msg)\n",
        "\n",
        "\n",
        "def confirm(msg): return input(f'{msg} [y/n]').lower() == 'y'\n",
        "\n",
        "\n",
        "if __name__ == '__main__':\n",
        "    game()\n",
        "    while confirm('Game Again?'): game()\n",
        "\n"
      ],
      "execution_count": 6,
      "outputs": [
        {
          "output_type": "stream",
          "text": [
            "Dealer [♤6] :Score=6\n",
            "Player [♧4, ♡A] :Score=15\n",
            " Hit? [y/n]y\n",
            "Player [♧4, ♡A, ♢K] :Score=15\n",
            " Hit? [y/n]y\n",
            "Player [♧4, ♡A, ♢K, ♤3] :Score=18\n",
            " Hit? [y/n]n\n",
            "Dealer Bust!! [♤6, ♧J, ♧Q] \n",
            "Game Again? [y/n]n\n"
          ],
          "name": "stdout"
        }
      ]
    }
  ]
}