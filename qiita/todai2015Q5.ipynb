{
  "nbformat": 4,
  "nbformat_minor": 0,
  "metadata": {
    "colab": {
      "name": "todai2015Q5.ipynb",
      "version": "0.3.2",
      "provenance": [],
      "include_colab_link": true
    },
    "kernelspec": {
      "name": "python3",
      "display_name": "Python 3"
    }
  },
  "cells": [
    {
      "cell_type": "markdown",
      "metadata": {
        "id": "view-in-github",
        "colab_type": "text"
      },
      "source": [
        "<a href=\"https://colab.research.google.com/github/zaq9/memo/blob/master/qiita/todai2015Q5.ipynb\" target=\"_parent\"><img src=\"https://colab.research.google.com/assets/colab-badge.svg\" alt=\"Open In Colab\"/></a>"
      ]
    },
    {
      "metadata": {
        "id": "Ggv2ULGFHcqp",
        "colab_type": "text"
      },
      "cell_type": "markdown",
      "source": [
        ">> [2015年度東大理系数学第5問をpythonでどうしても解きたい](https://qiita.com/ting/items/a1eba581c5a8628bb736)"
      ]
    },
    {
      "metadata": {
        "id": "DyMaiQziCc3X",
        "colab_type": "code",
        "outputId": "5923c9ea-94f4-4fb2-e4b5-e5ef51e29772",
        "colab": {
          "base_uri": "https://localhost:8080/",
          "height": 34
        }
      },
      "cell_type": "code",
      "source": [
        "from scipy.special import comb as c\n",
        "next(m for m in range(1,2016) if c(2015,m,True)%2==0 )"
      ],
      "execution_count": 0,
      "outputs": [
        {
          "output_type": "execute_result",
          "data": {
            "text/plain": [
              "32"
            ]
          },
          "metadata": {
            "tags": []
          },
          "execution_count": 1
        }
      ]
    }
  ]
}