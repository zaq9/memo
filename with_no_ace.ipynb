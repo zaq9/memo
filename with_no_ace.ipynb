{
  "nbformat": 4,
  "nbformat_minor": 0,
  "metadata": {
    "colab": {
      "name": "with_no_ace.ipynb",
      "version": "0.3.2",
      "provenance": [],
      "include_colab_link": true
    },
    "kernelspec": {
      "name": "python3",
      "display_name": "Python 3"
    }
  },
  "cells": [
    {
      "cell_type": "markdown",
      "metadata": {
        "id": "view-in-github",
        "colab_type": "text"
      },
      "source": [
        "<a href=\"https://colab.research.google.com/github/zaq9/memo/blob/master/with_no_ace.ipynb\" target=\"_parent\"><img src=\"https://colab.research.google.com/assets/colab-badge.svg\" alt=\"Open In Colab\"/></a>"
      ]
    },
    {
      "metadata": {
        "id": "RBBjTg_vDo6q",
        "colab_type": "code",
        "colab": {
          "base_uri": "https://localhost:8080/",
          "height": 457
        },
        "outputId": "fa7089bb-a189-4ab6-e044-0a844edaf027"
      },
      "cell_type": "code",
      "source": [
        "import random\n",
        "\n",
        "\n",
        "class Card:\n",
        "\tSUITS = '♤♡♢♧'\n",
        "\tRANKS = '0 A 2 3 4 5 6 7 8 9 10 J Q K'.split()\n",
        "\n",
        "\tdef __init__(self, suit, rank): self.suit, self.rank = suit, rank\n",
        "\tdef __repr__(self): return f'{Card.SUITS[self.suit]}{Card.RANKS[self.rank]}'\n",
        "\n",
        "\n",
        "class Deck(list):\n",
        "\tdef __init__(self):\n",
        "\t\tsuper().__init__([Card(suit, rank) for suit in range(4) for rank in range(1, 14)])\n",
        "\t\trandom.shuffle(self)\n",
        "\n",
        "\n",
        "class Hand(list):  # 手札\n",
        "\t@property\n",
        "\tdef score(self):  # ブラックジャックのスコア(Bustした場合は負）\n",
        "\t\tsc = sum(min(10, c.rank) for c in self)\n",
        "\t\treturn sc if sc <= 21 else -sc\n",
        "\n",
        "\n",
        "class Player:\n",
        "\tdef __init__(self, deck):\n",
        "\t\tself.deck = deck\n",
        "\t\tself.hand = Hand()\n",
        "\t\tself.draw()\n",
        "\n",
        "\tdef __repr__(self):\n",
        "\t\treturn (f\"{self.__class__.__name__} {self.hand} :Score={self.hand.score}\")\n",
        "\n",
        "\tdef draw(self):\n",
        "\t\tself.hand.append(self.deck.pop())\n",
        "\t\treturn self.hand.score\n",
        "\n",
        "\tdef confirm_hit(self):\n",
        "\t\tview(self)\n",
        "\t\treturn confirm(' Hit?')\n",
        "\n",
        "\tdef deal(self):\n",
        "\t\twhile (self.draw() > 0):\n",
        "\t\t\tif (not self.confirm_hit()): return self.hand.score\n",
        "\t\tview(f\"{self.__class__.__name__} Bust!! {self.hand} \")\n",
        "\n",
        "\n",
        "class Dealer(Player):\n",
        "\tdef confirm_hit(self): return self.hand.score < 17\n",
        "\n",
        "\n",
        "def game():\n",
        "\tdeck = Deck()\n",
        "\tdealer, player = Dealer(deck), Player(deck)\n",
        "\tview(dealer)\n",
        "\tif (player.deal() and dealer.deal()):\n",
        "\t\tview(dealer)\n",
        "\t\tif (player.hand.score >= dealer.hand.score):\n",
        "\t\t\tview('You Win!')\n",
        "\t\telse:\n",
        "\t\t\tview('Dealer Win!')\n",
        "\n",
        "\n",
        "def view(msg): print(msg)\n",
        "\n",
        "\n",
        "def confirm(msg): return input(f'{msg} [y/n]').lower() == 'y'\n",
        "\n",
        "\n",
        "if __name__ == '__main__':\n",
        "\tgame()\n",
        "\twhile confirm('Game Again?'): game()\n"
      ],
      "execution_count": 1,
      "outputs": [
        {
          "output_type": "stream",
          "text": [
            "Dealer [♧6] :Score=6\n",
            "Player [♤7, ♢6] :Score=13\n",
            " Hit? [y/n]y\n",
            "Player Bust!! [♤7, ♢6, ♤9] \n",
            "Game Again? [y/n]y\n",
            "Dealer [♧K] :Score=10\n",
            "Player [♢J, ♢K] :Score=20\n",
            " Hit? [y/n]n\n",
            "Dealer [♧K, ♢8] :Score=18\n",
            "You Win!\n",
            "Game Again? [y/n]y\n",
            "Dealer [♧9] :Score=9\n",
            "Player [♧10, ♢J] :Score=20\n",
            " Hit? [y/n]n\n",
            "Dealer [♧9, ♧J] :Score=19\n",
            "You Win!\n",
            "Game Again? [y/n]y\n",
            "Dealer [♢4] :Score=4\n",
            "Player [♢Q, ♧A] :Score=11\n",
            " Hit? [y/n]y\n",
            "Player [♢Q, ♧A, ♡6] :Score=17\n",
            " Hit? [y/n]n\n",
            "Dealer [♢4, ♢J, ♡7] :Score=21\n",
            "Dealer Win!\n",
            "Game Again? [y/n]n\n"
          ],
          "name": "stdout"
        }
      ]
    }
  ]
}